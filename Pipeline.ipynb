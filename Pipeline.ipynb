{
 "cells": [
  {
   "cell_type": "markdown",
   "metadata": {},
   "source": [
    "# HiC 增强完整流程，GM12878为例"
   ]
  },
  {
   "cell_type": "markdown",
   "metadata": {},
   "source": [
    "### 1. HiC 文件预处理: Reading Data\n",
    "\n",
    "#### 数据文件：\n",
    "\n",
    "工作目录为找出需要分析的文件，样本数据存放在 **{Datasets}/HiC/raw** 中，首先在其中找到所有 _10kb_ 并且为 _MAPQGE30_ 目录\n",
    "\n",
    "~~~bash\n",
    "$ find . -name \"10kb*\" -type d -exec find {} -name \"MAPQGE30\" -type d \\;\n",
    "~~~\n",
    "\n",
    "#### 异常文件处理\n",
    "\n",
    "~~~bash\n",
    "$ sed -i 's/^0\\.0$/NaN/g' file_need.change\n",
    "~~~\n",
    "\n",
    "#### 已知异常文件：\n",
    "\n",
    "* K562_chr22: SQRTVnorm 代替\n",
    "* IMR90_chr9: SQRTVnorm 代替"
   ]
  },
  {
   "cell_type": "code",
   "execution_count": 1,
   "metadata": {},
   "outputs": [
    {
     "name": "stdout",
     "output_type": "stream",
     "text": [
      "usage: data_aread.py -c CELL_LINE\n",
      "                     [-hr {5kb,10kb,25kb,50kb,100kb,250kb,500kb,1mb}]\n",
      "                     [-q {MAPQGE30,MAPQG0}] [-n {KRnorm,SQRTVCnorm,VCnorm}]\n",
      "                     [--help]\n",
      "\n",
      "Read raw data from Rao's Hi-C.\n",
      "\n",
      "optional arguments:\n",
      "  --help, -h            Print this help message and exit\n",
      "\n",
      "Required Arguments:\n",
      "  -c CELL_LINE          REQUIRED: Cell line for analysis[example:GM12878]\n",
      "\n",
      "Miscellaneous Arguments:\n",
      "  -hr {5kb,10kb,25kb,50kb,100kb,250kb,500kb,1mb}\n",
      "                        High resolution specified[default:10kb]\n",
      "  -q {MAPQGE30,MAPQG0}  Mapping quality of raw data[default:MAPQGE30]\n",
      "  -n {KRnorm,SQRTVCnorm,VCnorm}\n",
      "                        The normalization file for raw data[default:KRnorm]\n"
     ]
    }
   ],
   "source": [
    "%run data_aread.py -h"
   ]
  },
  {
   "cell_type": "markdown",
   "metadata": {},
   "source": [
    "#### >>> 运行\n",
    "\n",
    "~~~bash\n",
    "$ python data_aread.py -c GM12878\n",
    "~~~\n",
    "\n",
    "耗时小于 <mark>2.5 min</mark>"
   ]
  },
  {
   "cell_type": "markdown",
   "metadata": {},
   "source": [
    "### 2. 数据降采样"
   ]
  },
  {
   "cell_type": "code",
   "execution_count": 2,
   "metadata": {},
   "outputs": [
    {
     "name": "stdout",
     "output_type": "stream",
     "text": [
      "usage: data_downsample.py -c CELL_LINE -hr\n",
      "                          {5kb,10kb,25kb,50kb,100kb,250kb,500kb,1mb} -lr\n",
      "                          LOW_RES -r RATIO [--help]\n",
      "\n",
      "Downsample data from high resolution data\n",
      "\n",
      "optional arguments:\n",
      "  --help, -h            Print this help message and exit\n",
      "\n",
      "Required Arguments:\n",
      "  -c CELL_LINE          REQUIRED: Cell line for analysis[example:GM12878]\n",
      "  -hr {5kb,10kb,25kb,50kb,100kb,250kb,500kb,1mb}\n",
      "                        REQUIRED: High resolution specified[example:10kb]\n",
      "  -lr LOW_RES           REQUIRED: Low resolution specified[example:40kb]\n",
      "  -r RATIO              REQUIRED: The ratio of downsampling[example:16]\n"
     ]
    }
   ],
   "source": [
    "%run data_downsample.py -h"
   ]
  },
  {
   "cell_type": "markdown",
   "metadata": {},
   "source": [
    "#### >>> 运行\n",
    "\n",
    "~~~bash\n",
    "$ python data_downsample.py -c GM12878 -hr 10kb -lr 40kb -r 16\n",
    "~~~\n",
    "\n",
    "耗时小于 <mark>2 min</mark>"
   ]
  },
  {
   "cell_type": "markdown",
   "metadata": {},
   "source": [
    "### 3. 数据分割"
   ]
  },
  {
   "cell_type": "code",
   "execution_count": 3,
   "metadata": {},
   "outputs": [
    {
     "name": "stdout",
     "output_type": "stream",
     "text": [
      "usage: data_generate.py -c CELL_LINE -hr\n",
      "                        {5kb,10kb,25kb,50kb,100kb,250kb,500kb,1mb} -lr LOW_RES\n",
      "                        [-s {all,train,valid}] -chunk CHUNK -stride STRIDE\n",
      "                        -bound BOUND -scale SCALE [-type {max,avg}] [--help]\n",
      "\n",
      "Divide data for train and predict\n",
      "\n",
      "optional arguments:\n",
      "  --help, -h            Print this help message and exit\n",
      "\n",
      "Required Arguments:\n",
      "  -c CELL_LINE          REQUIRED: Cell line for analysis[example:GM12878]\n",
      "  -hr {5kb,10kb,25kb,50kb,100kb,250kb,500kb,1mb}\n",
      "                        REQUIRED: High resolution specified[example:10kb]\n",
      "  -lr LOW_RES           REQUIRED: Low resolution specified[example:40kb]\n",
      "  -s {all,train,valid}  REQUIRED: Dataset for train/valid/predict(all)\n",
      "\n",
      "SRGAN Arguments:\n",
      "  -chunk CHUNK          REQUIRED: chunk size for dividing[example:40]\n",
      "  -stride STRIDE        REQUIRED: stride for dividing[example:40]\n",
      "  -bound BOUND          REQUIRED: distance boundary interested[example:201]\n",
      "  -scale SCALE          REQUIRED: Downpooling scale[example:1]\n",
      "  -type {max,avg}       Downpooling type[default:max]\n"
     ]
    }
   ],
   "source": [
    "%run data_generate.py -h"
   ]
  },
  {
   "cell_type": "markdown",
   "metadata": {},
   "source": [
    "#### >>> 运行\n",
    "\n",
    "* 生成训练数据\n",
    "~~~bash\n",
    "$ python data_generate.py -c GM12878 -hr 10kb -lr 40kb -s train -chunk 40 -stride 40 -bound 201 -scale 1\n",
    "$ python data_generate.py -c GM12878 -hr 10kb -lr 40kb -s valid -chunk 40 -stride 40 -bound 201 -scale 1\n",
    "~~~\n",
    "\n",
    "\n",
    "* 生成预测数据\n",
    "~~~bash\n",
    "$ python data_generate.py -c GM12878 -hr 10kb -lr 40kb -s all -chunk 40 -stride 40 -bound 201 -scale 1\n",
    "~~~\n",
    "\n",
    "\n",
    "耗时小于 <mark>3 min</mark>"
   ]
  },
  {
   "cell_type": "markdown",
   "metadata": {},
   "source": [
    "### 4. 数据预测"
   ]
  },
  {
   "cell_type": "code",
   "execution_count": 4,
   "metadata": {},
   "outputs": [
    {
     "name": "stdout",
     "output_type": "stream",
     "text": [
      "usage: data_predict.py -c CELL_LINE -lr LOW_RES -ckpt CHECKPOINT [--cuda CUDA]\n",
      "                       [--help]\n",
      "\n",
      "Predict data with HiCplus and SRGAN model\n",
      "\n",
      "optional arguments:\n",
      "  --help, -h        Print this help message and exit\n",
      "\n",
      "Required Arguments:\n",
      "  -c CELL_LINE      REQUIRED: Cell line for analysis[example:GM12878]\n",
      "  -lr LOW_RES       REQUIRED: Low resolution specified[example:40kb]\n",
      "  -ckpt CHECKPOINT  REQUIRED: Checkpoint file of SRGAN model\n",
      "\n",
      "Miscellaneous Arguments:\n",
      "  --cuda CUDA       Whether or not using CUDA[default:1]\n"
     ]
    }
   ],
   "source": [
    "%run data_predict.py -h"
   ]
  },
  {
   "cell_type": "markdown",
   "metadata": {},
   "source": [
    "#### >>> 运行\n",
    "\n",
    "~~~bash\n",
    "$ python data_predict.py -c GM12878 -lr 40kb -ckpt save/generator_nonpool_noupsample_b201.pytorch\n",
    "~~~\n",
    "\n",
    "\n",
    "耗时小于 <mark>4 min</mark>"
   ]
  },
  {
   "cell_type": "markdown",
   "metadata": {},
   "source": [
    "## 后期处理\n",
    "\n",
    "### 1. 产生 FitHiC 输入文件"
   ]
  },
  {
   "cell_type": "code",
   "execution_count": 5,
   "metadata": {},
   "outputs": [
    {
     "name": "stdout",
     "output_type": "stream",
     "text": [
      "usage: input_pfithic.py -c CELL_LINE -lr LOW_RES [-hr HIGH_RES]\n",
      "                        [-L LOWERBOUND] [-U UPPERBOUND] [--help]\n",
      "\n",
      "Generate pFitHiC inputs for Loops calling\n",
      "\n",
      "optional arguments:\n",
      "  --help, -h     Print this help message and exit\n",
      "\n",
      "Required Arguments:\n",
      "  -c CELL_LINE   REQUIRED: Cell line for analysis[example:GM12878]\n",
      "  -lr LOW_RES    REQUIRED: The low resolution predicted from[example:40kb]\n",
      "\n",
      "Miscellaneous Arguments:\n",
      "  -hr HIGH_RES   OPTIONAL: The high resolution which predicted[default:10kb]\n",
      "  -L LOWERBOUND  OPTIONAL: lower bound on the intra-chromosomal distance\n",
      "                 range[default:1]\n",
      "  -U UPPERBOUND  OPTIONAL: upper bound on the intra-chromosomal distance\n",
      "                 range[default:110]\n"
     ]
    }
   ],
   "source": [
    "%run input_pfithic.py -h"
   ]
  },
  {
   "cell_type": "markdown",
   "metadata": {},
   "source": [
    "#### >>> 运行\n",
    "\n",
    "~~~bash\n",
    "$ python input_pfithic.py -c GM12878 -lr 40kb -L 1 -U 120\n",
    "~~~\n",
    "\n",
    "\n",
    "耗时约 <mark>4 min</mark>"
   ]
  },
  {
   "cell_type": "markdown",
   "metadata": {},
   "source": [
    "### 2. 运行 FitHiC"
   ]
  },
  {
   "cell_type": "code",
   "execution_count": 6,
   "metadata": {},
   "outputs": [
    {
     "name": "stdout",
     "output_type": "stream",
     "text": [
      "usage: runner.py -i INTERSFILE -f FRAGSFILE -o OUTDIR -r RESOLUTION\n",
      "                 [-L DISTLOWTHRES] [-U DISTUPTHRES] [-b NOOFBINS]\n",
      "                 [-p NOOFPASSES] [-m MAPPABILITYTHRESHOLD] [-l LIBNAME] [-log]\n",
      "                 [-x {intraOnly,interOnly,All}] [-t BIASFILE]\n",
      "                 [-tL BIASLOWERBOUND] [-tU BIASUPPERBOUND] [--help]\n",
      "                 [--version]\n",
      "\n",
      "A pandas based FitHiC runner\n",
      "\n",
      "optional arguments:\n",
      "  --help, -h            Print this help message and exit\n",
      "  --version             show program's version number and exit\n",
      "\n",
      "Required Arguments:\n",
      "  -i INTERSFILE, --interactions INTERSFILE\n",
      "                        REQUIRED: interactions between fragment pairs are read\n",
      "                        from INTERSFILE\n",
      "  -f FRAGSFILE, --fragments FRAGSFILE\n",
      "                        REQUIRED: midpoints (or start indices) of the\n",
      "                        fragments are read from FRAGSFILE\n",
      "  -o OUTDIR, --outdir OUTDIR\n",
      "                        REQUIRED: where the output files will be written\n",
      "  -r RESOLUTION, --resolution RESOLUTION\n",
      "                        REQUIRED: If the files are fixed size, please supply\n",
      "                        the resolution of the dataset here; otherwise, please\n",
      "                        use a value of 0 if the data is not fixed size.\n",
      "\n",
      "Miscellaneous Arguments:\n",
      "  -L DISTLOWTHRES, --lowerbound DISTLOWTHRES\n",
      "                        RECOMMENDED: lower bound on the intra-chromosomal\n",
      "                        distance range (unit: base pairs). DEFAULT no limit.\n",
      "                        Suggested limit is 2x the resolution of the input\n",
      "                        files\n",
      "  -U DISTUPTHRES, --upperbound DISTUPTHRES\n",
      "                        RECOMMENDED: upper bound on the intra-chromosomal\n",
      "                        distance range (unit: base pairs). DEFAULT no limit.\n",
      "                        STRONGLY suggested to have a limit for large genomes,\n",
      "                        such as human/mouse. ex. '1000000, 5000000, etc.'\n",
      "  -b NOOFBINS, --noOfBins NOOFBINS\n",
      "                        RECOMMENDED: number of equal-occupancy (count) bins.\n",
      "                        Default is 100\n",
      "  -p NOOFPASSES, --passes NOOFPASSES\n",
      "                        OPTIONAL: number of spline passes to run Default is 1\n",
      "  -m MAPPABILITYTHRESHOLD, --mappabilityThres MAPPABILITYTHRESHOLD\n",
      "                        OPTIONAL: minimum number of hits per locus that has to\n",
      "                        exist to call it mappable. DEFAULT is 1.\n",
      "  -l LIBNAME, --lib LIBNAME\n",
      "                        OPTIONAL: Name of the library that is analyzed to be\n",
      "                        used for name of file prefixes. DEFAULT is\n",
      "                        OMEGA_FitHic\n",
      "  -log                  OPTINAL: whether to writting to a log file\n",
      "  -x {intraOnly,interOnly,All}, --contactType {intraOnly,interOnly,All}\n",
      "                        OPTIONAL: use this flag to determine which chromosomal\n",
      "                        regions to study (All, interOnly, intraOnly). DEFAULT\n",
      "                        is intraOnly\n",
      "  -t BIASFILE, --biases BIASFILE\n",
      "                        OPTIONAL: biases calculated by ICE or KR norm for each\n",
      "                        locus are read from BIASFILE\n",
      "  -tL BIASLOWERBOUND, --biasLowerBound BIASLOWERBOUND\n",
      "                        OPTIONAL: this flag is used to determine the lower\n",
      "                        bound of bias values to discard. DEFAULT is 0.5\n",
      "  -tU BIASUPPERBOUND, --biasUpperBound BIASUPPERBOUND\n",
      "                        OPTIONAL: this flag is used to determine the upper\n",
      "                        bound of bias values to discard. DEFAULT is 2\n"
     ]
    }
   ],
   "source": [
    "%run -m pfithic.runner -h"
   ]
  },
  {
   "cell_type": "markdown",
   "metadata": {},
   "source": [
    "#### >>> 运行 (包装后脚本)\n",
    "\n",
    "~~~bash\n",
    "$ ./run_pfithic.sh GM12878 40kb\n",
    "~~~\n",
    "\n",
    "该脚本中有更多参数，需要手动调节\n",
    "\n",
    "耗时约 <mark>10 min</mark>"
   ]
  }
 ],
 "metadata": {
  "kernelspec": {
   "display_name": "Python 3",
   "language": "python",
   "name": "python3"
  },
  "language_info": {
   "codemirror_mode": {
    "name": "ipython",
    "version": 3
   },
   "file_extension": ".py",
   "mimetype": "text/x-python",
   "name": "python",
   "nbconvert_exporter": "python",
   "pygments_lexer": "ipython3",
   "version": "3.6.8"
  }
 },
 "nbformat": 4,
 "nbformat_minor": 2
}
